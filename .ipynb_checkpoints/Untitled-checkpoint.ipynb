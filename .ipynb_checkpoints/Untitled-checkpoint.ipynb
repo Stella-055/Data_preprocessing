{
 "cells": [
  {
   "cell_type": "code",
   "execution_count": 210,
   "id": "5fc9a56e-a3c0-46fa-a5a7-d4f1be534429",
   "metadata": {},
   "outputs": [],
   "source": [
    "import pandas as pd\n",
    "import matplotlib.pyplot as plt\n",
    "import numpy as np\n",
    "\n",
    "df = pd.read_csv(\"./ActivityData.csv\")\n"
   ]
  },
  {
   "cell_type": "code",
   "execution_count": 211,
   "id": "62e04699-bad7-4b0a-b30c-e10e572e7374",
   "metadata": {
    "scrolled": true
   },
   "outputs": [
    {
     "data": {
      "text/html": [
       "<div>\n",
       "<style scoped>\n",
       "    .dataframe tbody tr th:only-of-type {\n",
       "        vertical-align: middle;\n",
       "    }\n",
       "\n",
       "    .dataframe tbody tr th {\n",
       "        vertical-align: top;\n",
       "    }\n",
       "\n",
       "    .dataframe thead th {\n",
       "        text-align: right;\n",
       "    }\n",
       "</style>\n",
       "<table border=\"1\" class=\"dataframe\">\n",
       "  <thead>\n",
       "    <tr style=\"text-align: right;\">\n",
       "      <th></th>\n",
       "      <th>1654788999-345278656547333</th>\n",
       "      <th>2</th>\n",
       "      <th>Phone Call-</th>\n",
       "      <th>Unnamed: 3</th>\n",
       "    </tr>\n",
       "  </thead>\n",
       "  <tbody>\n",
       "    <tr>\n",
       "      <th>0</th>\n",
       "      <td>1888777222-345278666547334</td>\n",
       "      <td>0.0</td>\n",
       "      <td>SMS-</td>\n",
       "      <td>Y</td>\n",
       "    </tr>\n",
       "    <tr>\n",
       "      <th>1</th>\n",
       "      <td>1122765445-345278676547335</td>\n",
       "      <td>10.0</td>\n",
       "      <td>Internet Data-</td>\n",
       "      <td>NaN</td>\n",
       "    </tr>\n",
       "    <tr>\n",
       "      <th>2</th>\n",
       "      <td>1356753668-345278686547336</td>\n",
       "      <td>1.0</td>\n",
       "      <td>Phone Call-111</td>\n",
       "      <td>NaN</td>\n",
       "    </tr>\n",
       "    <tr>\n",
       "      <th>3</th>\n",
       "      <td>1590741891-345278696547337</td>\n",
       "      <td>2.0</td>\n",
       "      <td>Phone Call-111</td>\n",
       "      <td>NaN</td>\n",
       "    </tr>\n",
       "    <tr>\n",
       "      <th>4</th>\n",
       "      <td>1824730114-345278706547338</td>\n",
       "      <td>3.0</td>\n",
       "      <td>Phone Call-111</td>\n",
       "      <td>NaN</td>\n",
       "    </tr>\n",
       "    <tr>\n",
       "      <th>5</th>\n",
       "      <td>1058718337-345278716547339</td>\n",
       "      <td>4.0</td>\n",
       "      <td>Phone Call-111</td>\n",
       "      <td>NaN</td>\n",
       "    </tr>\n",
       "    <tr>\n",
       "      <th>6</th>\n",
       "      <td>1292706560-345278726547340</td>\n",
       "      <td>5.0</td>\n",
       "      <td>Phone Call-</td>\n",
       "      <td>NaN</td>\n",
       "    </tr>\n",
       "    <tr>\n",
       "      <th>7</th>\n",
       "      <td>1526694783-345278736547341</td>\n",
       "      <td>12.0</td>\n",
       "      <td>Phone Call-</td>\n",
       "      <td>NaN</td>\n",
       "    </tr>\n",
       "    <tr>\n",
       "      <th>8</th>\n",
       "      <td>1526694784-345278746547342</td>\n",
       "      <td>11.0</td>\n",
       "      <td>Phone Call-</td>\n",
       "      <td>NaN</td>\n",
       "    </tr>\n",
       "    <tr>\n",
       "      <th>9</th>\n",
       "      <td>1526694785-345278756547343</td>\n",
       "      <td>10.0</td>\n",
       "      <td>Phone Call-</td>\n",
       "      <td>NaN</td>\n",
       "    </tr>\n",
       "  </tbody>\n",
       "</table>\n",
       "</div>"
      ],
      "text/plain": [
       "   1654788999-345278656547333     2     Phone Call- Unnamed: 3\n",
       "0  1888777222-345278666547334   0.0            SMS-          Y\n",
       "1  1122765445-345278676547335  10.0  Internet Data-        NaN\n",
       "2  1356753668-345278686547336   1.0  Phone Call-111        NaN\n",
       "3  1590741891-345278696547337   2.0  Phone Call-111        NaN\n",
       "4  1824730114-345278706547338   3.0  Phone Call-111        NaN\n",
       "5  1058718337-345278716547339   4.0  Phone Call-111        NaN\n",
       "6  1292706560-345278726547340   5.0     Phone Call-        NaN\n",
       "7  1526694783-345278736547341  12.0     Phone Call-        NaN\n",
       "8  1526694784-345278746547342  11.0     Phone Call-        NaN\n",
       "9  1526694785-345278756547343  10.0     Phone Call-        NaN"
      ]
     },
     "execution_count": 211,
     "metadata": {},
     "output_type": "execute_result"
    }
   ],
   "source": [
    "df.head(10)"
   ]
  },
  {
   "cell_type": "code",
   "execution_count": 212,
   "id": "ecac2328-6412-4783-a899-db28d43503ee",
   "metadata": {},
   "outputs": [
    {
     "data": {
      "text/plain": [
       "(999, 4)"
      ]
     },
     "execution_count": 212,
     "metadata": {},
     "output_type": "execute_result"
    }
   ],
   "source": [
    "df.shape\n"
   ]
  },
  {
   "cell_type": "code",
   "execution_count": 213,
   "id": "bbdea1c9-3670-4ff1-a2f7-db154cc13ae0",
   "metadata": {
    "scrolled": true
   },
   "outputs": [
    {
     "data": {
      "text/plain": [
       "1654788999-345278656547333      0\n",
       "2                               0\n",
       "Phone Call-                     0\n",
       "Unnamed: 3                    979\n",
       "dtype: int64"
      ]
     },
     "execution_count": 213,
     "metadata": {},
     "output_type": "execute_result"
    }
   ],
   "source": [
    "df.isnull().sum()\n"
   ]
  },
  {
   "cell_type": "code",
   "execution_count": 214,
   "id": "b6da12e3-7338-494e-a40f-0ceae107869b",
   "metadata": {},
   "outputs": [
    {
     "data": {
      "text/plain": [
       "np.float64(9.54874874874875)"
      ]
     },
     "execution_count": 214,
     "metadata": {},
     "output_type": "execute_result"
    }
   ],
   "source": [
    "df[\"2\"].mean()"
   ]
  },
  {
   "cell_type": "code",
   "execution_count": 215,
   "id": "efaeadab-7290-492a-b639-f6727282ff2d",
   "metadata": {},
   "outputs": [
    {
     "data": {
      "text/plain": [
       "np.float64(10.0)"
      ]
     },
     "execution_count": 215,
     "metadata": {},
     "output_type": "execute_result"
    }
   ],
   "source": [
    "df[\"2\"].median()"
   ]
  },
  {
   "cell_type": "code",
   "execution_count": 216,
   "id": "7ed28ed5-5547-4975-9f3e-bc7ad7775cc0",
   "metadata": {},
   "outputs": [
    {
     "data": {
      "text/plain": [
       "0    1.0\n",
       "Name: 2, dtype: float64"
      ]
     },
     "execution_count": 216,
     "metadata": {},
     "output_type": "execute_result"
    }
   ],
   "source": [
    "df[\"2\"].mode()"
   ]
  },
  {
   "cell_type": "code",
   "execution_count": 217,
   "id": "de0f7c34-f0bf-4395-b016-d5db2cb294ec",
   "metadata": {},
   "outputs": [],
   "source": [
    "\n",
    "df[\"Unnamed: 3\"] = df[\"Unnamed: 3\"].fillna(\"unknown\")\n"
   ]
  },
  {
   "cell_type": "code",
   "execution_count": 218,
   "id": "e166d228-fab3-43dc-83c0-aad89b9abb64",
   "metadata": {},
   "outputs": [
    {
     "data": {
      "text/plain": [
       "{'whiskers': [<matplotlib.lines.Line2D at 0x1fdffd9e5d0>,\n",
       "  <matplotlib.lines.Line2D at 0x1fdffd9e710>],\n",
       " 'caps': [<matplotlib.lines.Line2D at 0x1fdffd9e850>,\n",
       "  <matplotlib.lines.Line2D at 0x1fdffd9e990>],\n",
       " 'boxes': [<matplotlib.lines.Line2D at 0x1fdffd9e490>],\n",
       " 'medians': [<matplotlib.lines.Line2D at 0x1fdffd9ead0>],\n",
       " 'fliers': [<matplotlib.lines.Line2D at 0x1fdffd9ec10>],\n",
       " 'means': []}"
      ]
     },
     "execution_count": 218,
     "metadata": {},
     "output_type": "execute_result"
    },
    {
     "data": {
      "image/png": "[encoded data removed]",
      "text/plain": [
       "<Figure size 640x480 with 1 Axes>"
      ]
     },
     "metadata": {},
     "output_type": "display_data"
    }
   ],
   "source": [
    "plt.boxplot(df['2'].dropna(), vert=False)"
   ]
  },
  {
   "cell_type": "code",
   "execution_count": 219,
   "id": "87806749-bb6e-444d-a8d1-d5a02c9cef97",
   "metadata": {},
   "outputs": [],
   "source": [
    "Q1 = df['2'].quantile(0.25)\n",
    "Q3 = df['2'].quantile(0.75)\n",
    "IQR = Q3 - Q1"
   ]
  },
  {
   "cell_type": "code",
   "execution_count": 220,
   "id": "555fa3ef-5f39-4926-9514-322c4ee2776f",
   "metadata": {},
   "outputs": [
    {
     "data": {
      "text/plain": [
       "{'whiskers': [<matplotlib.lines.Line2D at 0x1fdffe0e5d0>,\n",
       "  <matplotlib.lines.Line2D at 0x1fdffe0e710>],\n",
       " 'caps': [<matplotlib.lines.Line2D at 0x1fdffe0e850>,\n",
       "  <matplotlib.lines.Line2D at 0x1fdffe0e990>],\n",
       " 'boxes': [<matplotlib.lines.Line2D at 0x1fdffe0e490>],\n",
       " 'medians': [<matplotlib.lines.Line2D at 0x1fdffe0ead0>],\n",
       " 'fliers': [<matplotlib.lines.Line2D at 0x1fdffe0ec10>],\n",
       " 'means': []}"
      ]
     },
     "execution_count": 220,
     "metadata": {},
     "output_type": "execute_result"
    },
    {
     "data": {
      "image/png": "[encoded data removed]",
      "text/plain": [
       "<Figure size 640x480 with 1 Axes>"
      ]
     },
     "metadata": {},
     "output_type": "display_data"
    }
   ],
   "source": [
    "lower_bound = Q1 - 1.5 * IQR\n",
    "upper_bound = Q3 + 1.5 * IQR\n",
    "df_no_outliers = df[(df['2'] >= lower_bound) & (df['2'] <= upper_bound)]\n",
    "df=df_no_outliers\n",
    "df.shape\n",
    "plt.boxplot(df['2'].dropna(), vert=False)"
   ]
  },
  {
   "cell_type": "code",
   "execution_count": 221,
   "id": "048a4eb2-17f2-42cb-a3cb-8996d52ea3e2",
   "metadata": {},
   "outputs": [
    {
     "data": {
      "text/plain": [
       "0      False\n",
       "1      False\n",
       "2      False\n",
       "3      False\n",
       "4      False\n",
       "       ...  \n",
       "994     True\n",
       "995     True\n",
       "996     True\n",
       "997     True\n",
       "998    False\n",
       "Length: 981, dtype: bool"
      ]
     },
     "execution_count": 221,
     "metadata": {},
     "output_type": "execute_result"
    }
   ],
   "source": [
    "df.duplicated()"
   ]
  },
  {
   "cell_type": "code",
   "execution_count": 222,
   "id": "99de71f0-c10d-40e6-8d86-afa2aacc4023",
   "metadata": {},
   "outputs": [],
   "source": [
    "df.drop_duplicates(inplace=True)"
   ]
  },
  {
   "cell_type": "code",
   "execution_count": 223,
   "id": "fd2d53cc-0c2e-4e0e-bdaa-a31697dbaab9",
   "metadata": {},
   "outputs": [
    {
     "data": {
      "text/plain": [
       "(512, 4)"
      ]
     },
     "execution_count": 223,
     "metadata": {},
     "output_type": "execute_result"
    }
   ],
   "source": [
    "df.shape"
   ]
  },
  {
   "cell_type": "code",
   "execution_count": 224,
   "id": "768c7d88-0bc6-497a-ab69-1258c16d35e2",
   "metadata": {},
   "outputs": [],
   "source": [
    "df.to_csv('cleaned_activity.csv', index=False, encoding='utf-8-sig')"
   ]
  },
  {
   "cell_type": "code",
   "execution_count": 225,
   "id": "386623da-ec6d-41e5-ba28-126f702ca5c4",
   "metadata": {},
   "outputs": [],
   "source": [
    "df[['PhoneNumber', 'Subscribers_Identity_Number']] = df['1654788999-345278656547333'].str.split('-',n=2, expand=True)"
   ]
  },
  {
   "cell_type": "code",
   "execution_count": 226,
   "id": "33f1fd55-6bdb-46b2-b503-8f82546b6214",
   "metadata": {},
   "outputs": [
    {
     "data": {
      "text/html": [
       "<div>\n",
       "<style scoped>\n",
       "    .dataframe tbody tr th:only-of-type {\n",
       "        vertical-align: middle;\n",
       "    }\n",
       "\n",
       "    .dataframe tbody tr th {\n",
       "        vertical-align: top;\n",
       "    }\n",
       "\n",
       "    .dataframe thead th {\n",
       "        text-align: right;\n",
       "    }\n",
       "</style>\n",
       "<table border=\"1\" class=\"dataframe\">\n",
       "  <thead>\n",
       "    <tr style=\"text-align: right;\">\n",
       "      <th></th>\n",
       "      <th>1654788999-345278656547333</th>\n",
       "      <th>2</th>\n",
       "      <th>Phone Call-</th>\n",
       "      <th>Unnamed: 3</th>\n",
       "      <th>PhoneNumber</th>\n",
       "      <th>Subscribers_Identity_Number</th>\n",
       "    </tr>\n",
       "  </thead>\n",
       "  <tbody>\n",
       "    <tr>\n",
       "      <th>0</th>\n",
       "      <td>1888777222-345278666547334</td>\n",
       "      <td>0.0</td>\n",
       "      <td>SMS-</td>\n",
       "      <td>Y</td>\n",
       "      <td>1888777222</td>\n",
       "      <td>345278666547334</td>\n",
       "    </tr>\n",
       "    <tr>\n",
       "      <th>1</th>\n",
       "      <td>1122765445-345278676547335</td>\n",
       "      <td>10.0</td>\n",
       "      <td>Internet Data-</td>\n",
       "      <td>unknown</td>\n",
       "      <td>1122765445</td>\n",
       "      <td>345278676547335</td>\n",
       "    </tr>\n",
       "    <tr>\n",
       "      <th>2</th>\n",
       "      <td>1356753668-345278686547336</td>\n",
       "      <td>1.0</td>\n",
       "      <td>Phone Call-111</td>\n",
       "      <td>unknown</td>\n",
       "      <td>1356753668</td>\n",
       "      <td>345278686547336</td>\n",
       "    </tr>\n",
       "    <tr>\n",
       "      <th>3</th>\n",
       "      <td>1590741891-345278696547337</td>\n",
       "      <td>2.0</td>\n",
       "      <td>Phone Call-111</td>\n",
       "      <td>unknown</td>\n",
       "      <td>1590741891</td>\n",
       "      <td>345278696547337</td>\n",
       "    </tr>\n",
       "    <tr>\n",
       "      <th>4</th>\n",
       "      <td>1824730114-345278706547338</td>\n",
       "      <td>3.0</td>\n",
       "      <td>Phone Call-111</td>\n",
       "      <td>unknown</td>\n",
       "      <td>1824730114</td>\n",
       "      <td>345278706547338</td>\n",
       "    </tr>\n",
       "  </tbody>\n",
       "</table>\n",
       "</div>"
      ],
      "text/plain": [
       "   1654788999-345278656547333     2     Phone Call- Unnamed: 3 PhoneNumber  \\\n",
       "0  1888777222-345278666547334   0.0            SMS-          Y  1888777222   \n",
       "1  1122765445-345278676547335  10.0  Internet Data-    unknown  1122765445   \n",
       "2  1356753668-345278686547336   1.0  Phone Call-111    unknown  1356753668   \n",
       "3  1590741891-345278696547337   2.0  Phone Call-111    unknown  1590741891   \n",
       "4  1824730114-345278706547338   3.0  Phone Call-111    unknown  1824730114   \n",
       "\n",
       "  Subscribers_Identity_Number  \n",
       "0             345278666547334  \n",
       "1             345278676547335  \n",
       "2             345278686547336  \n",
       "3             345278696547337  \n",
       "4             345278706547338  "
      ]
     },
     "execution_count": 226,
     "metadata": {},
     "output_type": "execute_result"
    }
   ],
   "source": [
    "df.head()"
   ]
  },
  {
   "cell_type": "code",
   "execution_count": 227,
   "id": "b185d660-0e7e-4777-9910-c04ddb4fc6a3",
   "metadata": {},
   "outputs": [],
   "source": [
    "df[['Activity', 'Error_Code']] = df['Phone Call-'].str.split('-',n=2, expand=True)"
   ]
  },
  {
   "cell_type": "code",
   "execution_count": 228,
   "id": "98e70ea1-1324-4175-a3e0-c856a297f6cf",
   "metadata": {},
   "outputs": [
    {
     "data": {
      "text/html": [
       "<div>\n",
       "<style scoped>\n",
       "    .dataframe tbody tr th:only-of-type {\n",
       "        vertical-align: middle;\n",
       "    }\n",
       "\n",
       "    .dataframe tbody tr th {\n",
       "        vertical-align: top;\n",
       "    }\n",
       "\n",
       "    .dataframe thead th {\n",
       "        text-align: right;\n",
       "    }\n",
       "</style>\n",
       "<table border=\"1\" class=\"dataframe\">\n",
       "  <thead>\n",
       "    <tr style=\"text-align: right;\">\n",
       "      <th></th>\n",
       "      <th>1654788999-345278656547333</th>\n",
       "      <th>2</th>\n",
       "      <th>Phone Call-</th>\n",
       "      <th>Unnamed: 3</th>\n",
       "      <th>PhoneNumber</th>\n",
       "      <th>Subscribers_Identity_Number</th>\n",
       "      <th>Activity</th>\n",
       "      <th>Error_Code</th>\n",
       "    </tr>\n",
       "  </thead>\n",
       "  <tbody>\n",
       "    <tr>\n",
       "      <th>0</th>\n",
       "      <td>1888777222-345278666547334</td>\n",
       "      <td>0.0</td>\n",
       "      <td>SMS-</td>\n",
       "      <td>Y</td>\n",
       "      <td>1888777222</td>\n",
       "      <td>345278666547334</td>\n",
       "      <td>SMS</td>\n",
       "      <td></td>\n",
       "    </tr>\n",
       "    <tr>\n",
       "      <th>1</th>\n",
       "      <td>1122765445-345278676547335</td>\n",
       "      <td>10.0</td>\n",
       "      <td>Internet Data-</td>\n",
       "      <td>unknown</td>\n",
       "      <td>1122765445</td>\n",
       "      <td>345278676547335</td>\n",
       "      <td>Internet Data</td>\n",
       "      <td></td>\n",
       "    </tr>\n",
       "    <tr>\n",
       "      <th>2</th>\n",
       "      <td>1356753668-345278686547336</td>\n",
       "      <td>1.0</td>\n",
       "      <td>Phone Call-111</td>\n",
       "      <td>unknown</td>\n",
       "      <td>1356753668</td>\n",
       "      <td>345278686547336</td>\n",
       "      <td>Phone Call</td>\n",
       "      <td>111</td>\n",
       "    </tr>\n",
       "    <tr>\n",
       "      <th>3</th>\n",
       "      <td>1590741891-345278696547337</td>\n",
       "      <td>2.0</td>\n",
       "      <td>Phone Call-111</td>\n",
       "      <td>unknown</td>\n",
       "      <td>1590741891</td>\n",
       "      <td>345278696547337</td>\n",
       "      <td>Phone Call</td>\n",
       "      <td>111</td>\n",
       "    </tr>\n",
       "    <tr>\n",
       "      <th>4</th>\n",
       "      <td>1824730114-345278706547338</td>\n",
       "      <td>3.0</td>\n",
       "      <td>Phone Call-111</td>\n",
       "      <td>unknown</td>\n",
       "      <td>1824730114</td>\n",
       "      <td>345278706547338</td>\n",
       "      <td>Phone Call</td>\n",
       "      <td>111</td>\n",
       "    </tr>\n",
       "  </tbody>\n",
       "</table>\n",
       "</div>"
      ],
      "text/plain": [
       "   1654788999-345278656547333     2     Phone Call- Unnamed: 3 PhoneNumber  \\\n",
       "0  1888777222-345278666547334   0.0            SMS-          Y  1888777222   \n",
       "1  1122765445-345278676547335  10.0  Internet Data-    unknown  1122765445   \n",
       "2  1356753668-345278686547336   1.0  Phone Call-111    unknown  1356753668   \n",
       "3  1590741891-345278696547337   2.0  Phone Call-111    unknown  1590741891   \n",
       "4  1824730114-345278706547338   3.0  Phone Call-111    unknown  1824730114   \n",
       "\n",
       "  Subscribers_Identity_Number       Activity Error_Code  \n",
       "0             345278666547334            SMS             \n",
       "1             345278676547335  Internet Data             \n",
       "2             345278686547336     Phone Call        111  \n",
       "3             345278696547337     Phone Call        111  \n",
       "4             345278706547338     Phone Call        111  "
      ]
     },
     "execution_count": 228,
     "metadata": {},
     "output_type": "execute_result"
    }
   ],
   "source": [
    "df.head()"
   ]
  },
  {
   "cell_type": "code",
   "execution_count": 229,
   "id": "cb50501e-2ef4-41c9-bdca-3e636d1a9622",
   "metadata": {},
   "outputs": [],
   "source": [
    "df.drop(['1654788999-345278656547333','Phone Call-'], axis=1,inplace=True)"
   ]
  },
  {
   "cell_type": "code",
   "execution_count": 230,
   "id": "fc4c38dc-7780-432d-9568-0fa4151658a8",
   "metadata": {},
   "outputs": [
    {
     "data": {
      "text/html": [
       "<div>\n",
       "<style scoped>\n",
       "    .dataframe tbody tr th:only-of-type {\n",
       "        vertical-align: middle;\n",
       "    }\n",
       "\n",
       "    .dataframe tbody tr th {\n",
       "        vertical-align: top;\n",
       "    }\n",
       "\n",
       "    .dataframe thead th {\n",
       "        text-align: right;\n",
       "    }\n",
       "</style>\n",
       "<table border=\"1\" class=\"dataframe\">\n",
       "  <thead>\n",
       "    <tr style=\"text-align: right;\">\n",
       "      <th></th>\n",
       "      <th>2</th>\n",
       "      <th>Unnamed: 3</th>\n",
       "      <th>PhoneNumber</th>\n",
       "      <th>Subscribers_Identity_Number</th>\n",
       "      <th>Activity</th>\n",
       "      <th>Error_Code</th>\n",
       "    </tr>\n",
       "  </thead>\n",
       "  <tbody>\n",
       "    <tr>\n",
       "      <th>0</th>\n",
       "      <td>0.0</td>\n",
       "      <td>Y</td>\n",
       "      <td>1888777222</td>\n",
       "      <td>345278666547334</td>\n",
       "      <td>SMS</td>\n",
       "      <td></td>\n",
       "    </tr>\n",
       "    <tr>\n",
       "      <th>1</th>\n",
       "      <td>10.0</td>\n",
       "      <td>unknown</td>\n",
       "      <td>1122765445</td>\n",
       "      <td>345278676547335</td>\n",
       "      <td>Internet Data</td>\n",
       "      <td></td>\n",
       "    </tr>\n",
       "    <tr>\n",
       "      <th>2</th>\n",
       "      <td>1.0</td>\n",
       "      <td>unknown</td>\n",
       "      <td>1356753668</td>\n",
       "      <td>345278686547336</td>\n",
       "      <td>Phone Call</td>\n",
       "      <td>111</td>\n",
       "    </tr>\n",
       "    <tr>\n",
       "      <th>3</th>\n",
       "      <td>2.0</td>\n",
       "      <td>unknown</td>\n",
       "      <td>1590741891</td>\n",
       "      <td>345278696547337</td>\n",
       "      <td>Phone Call</td>\n",
       "      <td>111</td>\n",
       "    </tr>\n",
       "    <tr>\n",
       "      <th>4</th>\n",
       "      <td>3.0</td>\n",
       "      <td>unknown</td>\n",
       "      <td>1824730114</td>\n",
       "      <td>345278706547338</td>\n",
       "      <td>Phone Call</td>\n",
       "      <td>111</td>\n",
       "    </tr>\n",
       "    <tr>\n",
       "      <th>5</th>\n",
       "      <td>4.0</td>\n",
       "      <td>unknown</td>\n",
       "      <td>1058718337</td>\n",
       "      <td>345278716547339</td>\n",
       "      <td>Phone Call</td>\n",
       "      <td>111</td>\n",
       "    </tr>\n",
       "    <tr>\n",
       "      <th>6</th>\n",
       "      <td>5.0</td>\n",
       "      <td>unknown</td>\n",
       "      <td>1292706560</td>\n",
       "      <td>345278726547340</td>\n",
       "      <td>Phone Call</td>\n",
       "      <td></td>\n",
       "    </tr>\n",
       "    <tr>\n",
       "      <th>7</th>\n",
       "      <td>12.0</td>\n",
       "      <td>unknown</td>\n",
       "      <td>1526694783</td>\n",
       "      <td>345278736547341</td>\n",
       "      <td>Phone Call</td>\n",
       "      <td></td>\n",
       "    </tr>\n",
       "    <tr>\n",
       "      <th>8</th>\n",
       "      <td>11.0</td>\n",
       "      <td>unknown</td>\n",
       "      <td>1526694784</td>\n",
       "      <td>345278746547342</td>\n",
       "      <td>Phone Call</td>\n",
       "      <td></td>\n",
       "    </tr>\n",
       "    <tr>\n",
       "      <th>9</th>\n",
       "      <td>10.0</td>\n",
       "      <td>unknown</td>\n",
       "      <td>1526694785</td>\n",
       "      <td>345278756547343</td>\n",
       "      <td>Phone Call</td>\n",
       "      <td></td>\n",
       "    </tr>\n",
       "  </tbody>\n",
       "</table>\n",
       "</div>"
      ],
      "text/plain": [
       "      2 Unnamed: 3 PhoneNumber Subscribers_Identity_Number       Activity  \\\n",
       "0   0.0          Y  1888777222             345278666547334            SMS   \n",
       "1  10.0    unknown  1122765445             345278676547335  Internet Data   \n",
       "2   1.0    unknown  1356753668             345278686547336     Phone Call   \n",
       "3   2.0    unknown  1590741891             345278696547337     Phone Call   \n",
       "4   3.0    unknown  1824730114             345278706547338     Phone Call   \n",
       "5   4.0    unknown  1058718337             345278716547339     Phone Call   \n",
       "6   5.0    unknown  1292706560             345278726547340     Phone Call   \n",
       "7  12.0    unknown  1526694783             345278736547341     Phone Call   \n",
       "8  11.0    unknown  1526694784             345278746547342     Phone Call   \n",
       "9  10.0    unknown  1526694785             345278756547343     Phone Call   \n",
       "\n",
       "  Error_Code  \n",
       "0             \n",
       "1             \n",
       "2        111  \n",
       "3        111  \n",
       "4        111  \n",
       "5        111  \n",
       "6             \n",
       "7             \n",
       "8             \n",
       "9             "
      ]
     },
     "execution_count": 230,
     "metadata": {},
     "output_type": "execute_result"
    }
   ],
   "source": [
    "df.head(10)"
   ]
  },
  {
   "cell_type": "code",
   "execution_count": 231,
   "id": "c4f5c57a-811d-4252-8e2e-a36a200b8359",
   "metadata": {},
   "outputs": [
    {
     "data": {
      "text/plain": [
       "2                              0\n",
       "Unnamed: 3                     0\n",
       "PhoneNumber                    0\n",
       "Subscribers_Identity_Number    0\n",
       "Activity                       0\n",
       "Error_Code                     0\n",
       "dtype: int64"
      ]
     },
     "execution_count": 231,
     "metadata": {},
     "output_type": "execute_result"
    }
   ],
   "source": [
    "df.isnull().sum()"
   ]
  },
  {
   "cell_type": "code",
   "execution_count": 232,
   "id": "8bb54a13-5e91-41dc-a5c2-2ee7c1be92ed",
   "metadata": {},
   "outputs": [],
   "source": [
    "\n",
    "df['Error_Code'] = df['Error_Code'].replace('', 0)\n"
   ]
  },
  {
   "cell_type": "code",
   "execution_count": 233,
   "id": "bfe8b3e4-8c81-4013-8034-2a86cb592044",
   "metadata": {},
   "outputs": [
    {
     "data": {
      "text/html": [
       "<div>\n",
       "<style scoped>\n",
       "    .dataframe tbody tr th:only-of-type {\n",
       "        vertical-align: middle;\n",
       "    }\n",
       "\n",
       "    .dataframe tbody tr th {\n",
       "        vertical-align: top;\n",
       "    }\n",
       "\n",
       "    .dataframe thead th {\n",
       "        text-align: right;\n",
       "    }\n",
       "</style>\n",
       "<table border=\"1\" class=\"dataframe\">\n",
       "  <thead>\n",
       "    <tr style=\"text-align: right;\">\n",
       "      <th></th>\n",
       "      <th>2</th>\n",
       "      <th>Unnamed: 3</th>\n",
       "      <th>PhoneNumber</th>\n",
       "      <th>Subscribers_Identity_Number</th>\n",
       "      <th>Activity</th>\n",
       "      <th>Error_Code</th>\n",
       "    </tr>\n",
       "  </thead>\n",
       "  <tbody>\n",
       "    <tr>\n",
       "      <th>0</th>\n",
       "      <td>0.0</td>\n",
       "      <td>Y</td>\n",
       "      <td>1888777222</td>\n",
       "      <td>345278666547334</td>\n",
       "      <td>SMS</td>\n",
       "      <td>0</td>\n",
       "    </tr>\n",
       "    <tr>\n",
       "      <th>1</th>\n",
       "      <td>10.0</td>\n",
       "      <td>unknown</td>\n",
       "      <td>1122765445</td>\n",
       "      <td>345278676547335</td>\n",
       "      <td>Internet Data</td>\n",
       "      <td>0</td>\n",
       "    </tr>\n",
       "    <tr>\n",
       "      <th>2</th>\n",
       "      <td>1.0</td>\n",
       "      <td>unknown</td>\n",
       "      <td>1356753668</td>\n",
       "      <td>345278686547336</td>\n",
       "      <td>Phone Call</td>\n",
       "      <td>111</td>\n",
       "    </tr>\n",
       "    <tr>\n",
       "      <th>3</th>\n",
       "      <td>2.0</td>\n",
       "      <td>unknown</td>\n",
       "      <td>1590741891</td>\n",
       "      <td>345278696547337</td>\n",
       "      <td>Phone Call</td>\n",
       "      <td>111</td>\n",
       "    </tr>\n",
       "    <tr>\n",
       "      <th>4</th>\n",
       "      <td>3.0</td>\n",
       "      <td>unknown</td>\n",
       "      <td>1824730114</td>\n",
       "      <td>345278706547338</td>\n",
       "      <td>Phone Call</td>\n",
       "      <td>111</td>\n",
       "    </tr>\n",
       "    <tr>\n",
       "      <th>5</th>\n",
       "      <td>4.0</td>\n",
       "      <td>unknown</td>\n",
       "      <td>1058718337</td>\n",
       "      <td>345278716547339</td>\n",
       "      <td>Phone Call</td>\n",
       "      <td>111</td>\n",
       "    </tr>\n",
       "    <tr>\n",
       "      <th>6</th>\n",
       "      <td>5.0</td>\n",
       "      <td>unknown</td>\n",
       "      <td>1292706560</td>\n",
       "      <td>345278726547340</td>\n",
       "      <td>Phone Call</td>\n",
       "      <td>0</td>\n",
       "    </tr>\n",
       "    <tr>\n",
       "      <th>7</th>\n",
       "      <td>12.0</td>\n",
       "      <td>unknown</td>\n",
       "      <td>1526694783</td>\n",
       "      <td>345278736547341</td>\n",
       "      <td>Phone Call</td>\n",
       "      <td>0</td>\n",
       "    </tr>\n",
       "    <tr>\n",
       "      <th>8</th>\n",
       "      <td>11.0</td>\n",
       "      <td>unknown</td>\n",
       "      <td>1526694784</td>\n",
       "      <td>345278746547342</td>\n",
       "      <td>Phone Call</td>\n",
       "      <td>0</td>\n",
       "    </tr>\n",
       "    <tr>\n",
       "      <th>9</th>\n",
       "      <td>10.0</td>\n",
       "      <td>unknown</td>\n",
       "      <td>1526694785</td>\n",
       "      <td>345278756547343</td>\n",
       "      <td>Phone Call</td>\n",
       "      <td>0</td>\n",
       "    </tr>\n",
       "  </tbody>\n",
       "</table>\n",
       "</div>"
      ],
      "text/plain": [
       "      2 Unnamed: 3 PhoneNumber Subscribers_Identity_Number       Activity  \\\n",
       "0   0.0          Y  1888777222             345278666547334            SMS   \n",
       "1  10.0    unknown  1122765445             345278676547335  Internet Data   \n",
       "2   1.0    unknown  1356753668             345278686547336     Phone Call   \n",
       "3   2.0    unknown  1590741891             345278696547337     Phone Call   \n",
       "4   3.0    unknown  1824730114             345278706547338     Phone Call   \n",
       "5   4.0    unknown  1058718337             345278716547339     Phone Call   \n",
       "6   5.0    unknown  1292706560             345278726547340     Phone Call   \n",
       "7  12.0    unknown  1526694783             345278736547341     Phone Call   \n",
       "8  11.0    unknown  1526694784             345278746547342     Phone Call   \n",
       "9  10.0    unknown  1526694785             345278756547343     Phone Call   \n",
       "\n",
       "  Error_Code  \n",
       "0          0  \n",
       "1          0  \n",
       "2        111  \n",
       "3        111  \n",
       "4        111  \n",
       "5        111  \n",
       "6          0  \n",
       "7          0  \n",
       "8          0  \n",
       "9          0  "
      ]
     },
     "execution_count": 233,
     "metadata": {},
     "output_type": "execute_result"
    }
   ],
   "source": [
    "df.head(10)"
   ]
  },
  {
   "cell_type": "code",
   "execution_count": 234,
   "id": "63e1b015-7b78-4d4f-84c9-c7560617866d",
   "metadata": {},
   "outputs": [],
   "source": [
    "df.rename(columns={'2': 'Duration'},inplace=True)"
   ]
  },
  {
   "cell_type": "code",
   "execution_count": 235,
   "id": "8aff2286-205e-4792-95e9-f2038b485a95",
   "metadata": {},
   "outputs": [
    {
     "data": {
      "text/plain": [
       "(512, 5)"
      ]
     },
     "execution_count": 235,
     "metadata": {},
     "output_type": "execute_result"
    }
   ],
   "source": [
    "\n",
    "df.drop([\"Unnamed: 3\"], axis=1,inplace=True)\n",
    "df.head()\n",
    "df.shape"
   ]
  },
  {
   "cell_type": "code",
   "execution_count": 236,
   "id": "073434ff-4d24-4757-91ac-d125e9c15fa2",
   "metadata": {},
   "outputs": [],
   "source": [
    "\n",
    "Y=df[\"Duration\"]"
   ]
  },
  {
   "cell_type": "code",
   "execution_count": 241,
   "id": "1c5064f1-4183-458d-abbf-fe53a7798a04",
   "metadata": {},
   "outputs": [
    {
     "data": {
      "image/png": "[encoded data removed]",
      "text/plain": [
       "<Figure size 640x480 with 1 Axes>"
      ]
     },
     "metadata": {},
     "output_type": "display_data"
    }
   ],
   "source": [
    "plt.hist(Y, bins=5, color='blue', edgecolor='black')\n",
    "plt.title('Distribution of Duration Column')\n",
    "plt.xlabel('Values')\n",
    "plt.ylabel('Frequency')\n",
    "\n",
    "plt.show()"
   ]
  },
  {
   "cell_type": "code",
   "execution_count": 242,
   "id": "768a544d-d1e3-4dfb-8eca-cea452f88701",
   "metadata": {},
   "outputs": [],
   "source": [
    "df.to_csv('cleaned_ActivityData.csv', index=False, encoding='utf-8-sig')"
   ]
  },
  {
   "cell_type": "code",
   "execution_count": null,
   "id": "d7de78fb-6ded-466f-8118-d4ff60b5e8fc",
   "metadata": {},
   "outputs": [],
   "source": []
  }
 ],
 "metadata": {
  "kernelspec": {
   "display_name": "Python 3 (ipykernel)",
   "language": "python",
   "name": "python3"
  },
  "language_info": {
   "codemirror_mode": {
    "name": "ipython",
    "version": 3
   },
   "file_extension": ".py",
   "mimetype": "text/x-python",
   "name": "python",
   "nbconvert_exporter": "python",
   "pygments_lexer": "ipython3",
   "version": "3.13.0"
  }
 },
 "nbformat": 4,
 "nbformat_minor": 5
}
