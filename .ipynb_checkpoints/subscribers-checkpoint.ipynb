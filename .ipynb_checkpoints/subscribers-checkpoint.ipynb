{
 "cells": [
  {
   "cell_type": "code",
   "execution_count": 10,
   "id": "ccf703c7-228f-4519-baf8-238e6df9a741",
   "metadata": {},
   "outputs": [
    {
     "data": {
      "text/html": [
       "<div>\n",
       "<style scoped>\n",
       "    .dataframe tbody tr th:only-of-type {\n",
       "        vertical-align: middle;\n",
       "    }\n",
       "\n",
       "    .dataframe tbody tr th {\n",
       "        vertical-align: top;\n",
       "    }\n",
       "\n",
       "    .dataframe thead th {\n",
       "        text-align: right;\n",
       "    }\n",
       "</style>\n",
       "<table border=\"1\" class=\"dataframe\">\n",
       "  <thead>\n",
       "    <tr style=\"text-align: right;\">\n",
       "      <th></th>\n",
       "      <th>SubscriberIdentityNumber</th>\n",
       "      <th>Phone Number</th>\n",
       "      <th>Subscriber Name</th>\n",
       "      <th>SSN</th>\n",
       "      <th>Subscriber Age</th>\n",
       "      <th>State</th>\n",
       "      <th>Zip Code</th>\n",
       "      <th>SubscribedFromDate</th>\n",
       "      <th>Internet Service</th>\n",
       "      <th>SMS Service</th>\n",
       "      <th>Churn Status</th>\n",
       "    </tr>\n",
       "  </thead>\n",
       "  <tbody>\n",
       "    <tr>\n",
       "      <th>0</th>\n",
       "      <td>345278656547333</td>\n",
       "      <td>1654788999</td>\n",
       "      <td>Mike</td>\n",
       "      <td>214448881</td>\n",
       "      <td>25</td>\n",
       "      <td>Arizona</td>\n",
       "      <td>85005</td>\n",
       "      <td>1/12/2018</td>\n",
       "      <td>Active</td>\n",
       "      <td>Active</td>\n",
       "      <td>Active</td>\n",
       "    </tr>\n",
       "    <tr>\n",
       "      <th>1</th>\n",
       "      <td>345278666547334</td>\n",
       "      <td>1888777222</td>\n",
       "      <td>John</td>\n",
       "      <td>214448882</td>\n",
       "      <td>15</td>\n",
       "      <td>Florida</td>\n",
       "      <td>33130</td>\n",
       "      <td>12/12/2018</td>\n",
       "      <td>Active</td>\n",
       "      <td>Active</td>\n",
       "      <td>Active</td>\n",
       "    </tr>\n",
       "    <tr>\n",
       "      <th>2</th>\n",
       "      <td>345278676547335</td>\n",
       "      <td>1122765445</td>\n",
       "      <td>James</td>\n",
       "      <td>214448883</td>\n",
       "      <td>45</td>\n",
       "      <td>Newyork</td>\n",
       "      <td>10005</td>\n",
       "      <td>5/25/2018</td>\n",
       "      <td>Active</td>\n",
       "      <td>Active</td>\n",
       "      <td>Active</td>\n",
       "    </tr>\n",
       "    <tr>\n",
       "      <th>3</th>\n",
       "      <td>345278686547336</td>\n",
       "      <td>10</td>\n",
       "      <td>Robert</td>\n",
       "      <td>214448884</td>\n",
       "      <td>62</td>\n",
       "      <td>Newyork</td>\n",
       "      <td>10006</td>\n",
       "      <td>11/5/2017</td>\n",
       "      <td>InActive</td>\n",
       "      <td>NaN</td>\n",
       "      <td>Active</td>\n",
       "    </tr>\n",
       "    <tr>\n",
       "      <th>4</th>\n",
       "      <td>345278696547337</td>\n",
       "      <td>1590741891</td>\n",
       "      <td>Thomas</td>\n",
       "      <td>214448885</td>\n",
       "      <td>15</td>\n",
       "      <td>Newyork</td>\n",
       "      <td>10007</td>\n",
       "      <td>4/18/2017</td>\n",
       "      <td>Active</td>\n",
       "      <td>Active</td>\n",
       "      <td>NaN</td>\n",
       "    </tr>\n",
       "    <tr>\n",
       "      <th>5</th>\n",
       "      <td>345278706547338</td>\n",
       "      <td>20</td>\n",
       "      <td>Charles</td>\n",
       "      <td>214448886</td>\n",
       "      <td>33</td>\n",
       "      <td>Newyork</td>\n",
       "      <td>10008</td>\n",
       "      <td>9/29/2019</td>\n",
       "      <td>Active</td>\n",
       "      <td>Active</td>\n",
       "      <td>Active</td>\n",
       "    </tr>\n",
       "    <tr>\n",
       "      <th>6</th>\n",
       "      <td>345278716547339</td>\n",
       "      <td>1058718337</td>\n",
       "      <td>Sam</td>\n",
       "      <td>214448887</td>\n",
       "      <td>22</td>\n",
       "      <td>Newyork</td>\n",
       "      <td>10009</td>\n",
       "      <td>3/12/2016</td>\n",
       "      <td>Active</td>\n",
       "      <td>Active</td>\n",
       "      <td>Active</td>\n",
       "    </tr>\n",
       "    <tr>\n",
       "      <th>7</th>\n",
       "      <td>345278726547340</td>\n",
       "      <td>1292706560</td>\n",
       "      <td>Antony</td>\n",
       "      <td>214448888</td>\n",
       "      <td>78</td>\n",
       "      <td>Newyork</td>\n",
       "      <td>10010</td>\n",
       "      <td>8/24/2015</td>\n",
       "      <td>Active</td>\n",
       "      <td>Active</td>\n",
       "      <td>Active</td>\n",
       "    </tr>\n",
       "    <tr>\n",
       "      <th>8</th>\n",
       "      <td>345278736547341</td>\n",
       "      <td>1526694783</td>\n",
       "      <td>Raj</td>\n",
       "      <td>214448889</td>\n",
       "      <td>55</td>\n",
       "      <td>Newyork</td>\n",
       "      <td>10011</td>\n",
       "      <td>2/4/2019</td>\n",
       "      <td>Active</td>\n",
       "      <td>Active</td>\n",
       "      <td>NaN</td>\n",
       "    </tr>\n",
       "    <tr>\n",
       "      <th>9</th>\n",
       "      <td>345278746547342</td>\n",
       "      <td>1526694784</td>\n",
       "      <td>Brian</td>\n",
       "      <td>214448890</td>\n",
       "      <td>44</td>\n",
       "      <td>Newyork</td>\n",
       "      <td>10012</td>\n",
       "      <td>2/5/2019</td>\n",
       "      <td>Active</td>\n",
       "      <td>Active</td>\n",
       "      <td>Active</td>\n",
       "    </tr>\n",
       "  </tbody>\n",
       "</table>\n",
       "</div>"
      ],
      "text/plain": [
       "   SubscriberIdentityNumber  Phone Number Subscriber Name        SSN  \\\n",
       "0           345278656547333    1654788999            Mike  214448881   \n",
       "1           345278666547334    1888777222            John  214448882   \n",
       "2           345278676547335    1122765445           James  214448883   \n",
       "3           345278686547336            10          Robert  214448884   \n",
       "4           345278696547337    1590741891          Thomas  214448885   \n",
       "5           345278706547338            20         Charles  214448886   \n",
       "6           345278716547339    1058718337             Sam  214448887   \n",
       "7           345278726547340    1292706560          Antony  214448888   \n",
       "8           345278736547341    1526694783             Raj  214448889   \n",
       "9           345278746547342    1526694784           Brian  214448890   \n",
       "\n",
       "   Subscriber Age    State  Zip Code SubscribedFromDate Internet Service  \\\n",
       "0              25  Arizona     85005          1/12/2018           Active   \n",
       "1              15  Florida     33130         12/12/2018           Active   \n",
       "2              45  Newyork     10005          5/25/2018           Active   \n",
       "3              62  Newyork     10006          11/5/2017         InActive   \n",
       "4              15  Newyork     10007          4/18/2017           Active   \n",
       "5              33  Newyork     10008          9/29/2019           Active   \n",
       "6              22  Newyork     10009          3/12/2016           Active   \n",
       "7              78  Newyork     10010          8/24/2015           Active   \n",
       "8              55  Newyork     10011           2/4/2019           Active   \n",
       "9              44  Newyork     10012           2/5/2019           Active   \n",
       "\n",
       "  SMS Service Churn Status  \n",
       "0      Active       Active  \n",
       "1      Active       Active  \n",
       "2      Active       Active  \n",
       "3         NaN       Active  \n",
       "4      Active          NaN  \n",
       "5      Active       Active  \n",
       "6      Active       Active  \n",
       "7      Active       Active  \n",
       "8      Active          NaN  \n",
       "9      Active       Active  "
      ]
     },
     "execution_count": 10,
     "metadata": {},
     "output_type": "execute_result"
    }
   ],
   "source": [
    "import pandas as pd\n",
    "import matplotlib.pyplot as plt\n",
    "import numpy as np\n",
    "\n",
    "df = pd.read_csv(\"./SubscribersData.csv\")\n",
    "df.head(10)"
   ]
  },
  {
   "cell_type": "code",
   "execution_count": 11,
   "id": "87d030be-a69b-4b07-88c4-7e5c70e645a5",
   "metadata": {},
   "outputs": [
    {
     "data": {
      "text/plain": [
       "(505, 11)"
      ]
     },
     "execution_count": 11,
     "metadata": {},
     "output_type": "execute_result"
    }
   ],
   "source": [
    "df.shape"
   ]
  },
  {
   "cell_type": "code",
   "execution_count": 12,
   "id": "4717de59-0bff-45f8-bfff-e9ad6aa0abb5",
   "metadata": {},
   "outputs": [
    {
     "data": {
      "text/plain": [
       "SubscriberIdentityNumber    0\n",
       "Phone Number                0\n",
       "Subscriber Name             0\n",
       "SSN                         0\n",
       "Subscriber Age              0\n",
       "State                       0\n",
       "Zip Code                    0\n",
       "SubscribedFromDate          0\n",
       "Internet Service            0\n",
       "SMS Service                 4\n",
       "Churn Status                6\n",
       "dtype: int64"
      ]
     },
     "execution_count": 12,
     "metadata": {},
     "output_type": "execute_result"
    }
   ],
   "source": [
    "df.isnull().sum()"
   ]
  },
  {
   "cell_type": "code",
   "execution_count": 13,
   "id": "b3d8e98e-858c-483b-90c3-f7dffae6040e",
   "metadata": {},
   "outputs": [],
   "source": [
    "df.dropna(inplace=True)"
   ]
  },
  {
   "cell_type": "code",
   "execution_count": 14,
   "id": "4aa62764-b9f2-42c1-ab8b-d6e749d44312",
   "metadata": {},
   "outputs": [
    {
     "data": {
      "text/plain": [
       "{'whiskers': [<matplotlib.lines.Line2D at 0x21e1677fed0>,\n",
       "  <matplotlib.lines.Line2D at 0x21e167ac050>],\n",
       " 'caps': [<matplotlib.lines.Line2D at 0x21e167ac190>,\n",
       "  <matplotlib.lines.Line2D at 0x21e167ac2d0>],\n",
       " 'boxes': [<matplotlib.lines.Line2D at 0x21e1677fd90>],\n",
       " 'medians': [<matplotlib.lines.Line2D at 0x21e167ac410>],\n",
       " 'fliers': [<matplotlib.lines.Line2D at 0x21e167ac550>],\n",
       " 'means': []}"
      ]
     },
     "execution_count": 14,
     "metadata": {},
     "output_type": "execute_result"
    },
    {
     "data": {
      "image/png": "[encoded data removed]",
      "text/plain": [
       "<Figure size 640x480 with 1 Axes>"
      ]
     },
     "metadata": {},
     "output_type": "display_data"
    }
   ],
   "source": [
    "plt.boxplot(df['Subscriber Age'].dropna(), vert=False)"
   ]
  },
  {
   "cell_type": "code",
   "execution_count": 15,
   "id": "f0d404c0-24ee-4ab0-9509-38b8b7859b81",
   "metadata": {},
   "outputs": [],
   "source": [
    "Q1 = df['Subscriber Age'].quantile(0.25)\n",
    "Q3 = df['Subscriber Age'].quantile(0.75)\n",
    "IQR = Q3 - Q1"
   ]
  },
  {
   "cell_type": "code",
   "execution_count": 16,
   "id": "f56b7f6b-020a-4eb7-b93a-87aa4fc8561a",
   "metadata": {},
   "outputs": [
    {
     "data": {
      "text/plain": [
       "{'whiskers': [<matplotlib.lines.Line2D at 0x21e1681c190>,\n",
       "  <matplotlib.lines.Line2D at 0x21e1681c2d0>],\n",
       " 'caps': [<matplotlib.lines.Line2D at 0x21e1681c410>,\n",
       "  <matplotlib.lines.Line2D at 0x21e1681c550>],\n",
       " 'boxes': [<matplotlib.lines.Line2D at 0x21e1681c050>],\n",
       " 'medians': [<matplotlib.lines.Line2D at 0x21e1681c690>],\n",
       " 'fliers': [<matplotlib.lines.Line2D at 0x21e1681c7d0>],\n",
       " 'means': []}"
      ]
     },
     "execution_count": 16,
     "metadata": {},
     "output_type": "execute_result"
    },
    {
     "data": {
      "image/png": "[encoded data removed]",
      "text/plain": [
       "<Figure size 640x480 with 1 Axes>"
      ]
     },
     "metadata": {},
     "output_type": "display_data"
    }
   ],
   "source": [
    "lower_bound = Q1 - 1.5 * IQR\n",
    "upper_bound = Q3 + 1.5 * IQR\n",
    "df_no_outliers = df[(df['Subscriber Age'] >= lower_bound) & (df['Subscriber Age'] <= upper_bound)]\n",
    "df=df_no_outliers\n",
    "df.shape\n",
    "plt.boxplot(df['Subscriber Age'].dropna(), vert=False)"
   ]
  },
  {
   "cell_type": "code",
   "execution_count": 17,
   "id": "e93dffdf-a08f-44fd-b2a6-a00210730cb4",
   "metadata": {},
   "outputs": [
    {
     "data": {
      "text/plain": [
       "0      False\n",
       "1      False\n",
       "2      False\n",
       "5      False\n",
       "6      False\n",
       "       ...  \n",
       "496    False\n",
       "499    False\n",
       "500     True\n",
       "501     True\n",
       "504     True\n",
       "Length: 454, dtype: bool"
      ]
     },
     "execution_count": 17,
     "metadata": {},
     "output_type": "execute_result"
    }
   ],
   "source": [
    "df.duplicated()\n"
   ]
  },
  {
   "cell_type": "code",
   "execution_count": 18,
   "id": "e56d7ae6-3c01-4467-a4ed-a09b50c8f15c",
   "metadata": {},
   "outputs": [],
   "source": [
    "df.drop_duplicates(inplace=True)"
   ]
  },
  {
   "cell_type": "code",
   "execution_count": 19,
   "id": "461805d7-b243-45a2-97fe-e4a0d3502bb4",
   "metadata": {},
   "outputs": [],
   "source": [
    "df.to_csv('cleaned_subscribers.csv', index=False, encoding='utf-8-sig')"
   ]
  },
  {
   "cell_type": "code",
   "execution_count": null,
   "id": "78eaa526-1962-4d44-9a78-d83d41ccd61b",
   "metadata": {},
   "outputs": [],
   "source": []
  }
 ],
 "metadata": {
  "kernelspec": {
   "display_name": "Python 3 (ipykernel)",
   "language": "python",
   "name": "python3"
  },
  "language_info": {
   "codemirror_mode": {
    "name": "ipython",
    "version": 3
   },
   "file_extension": ".py",
   "mimetype": "text/x-python",
   "name": "python",
   "nbconvert_exporter": "python",
   "pygments_lexer": "ipython3",
   "version": "3.13.0"
  }
 },
 "nbformat": 4,
 "nbformat_minor": 5
}
